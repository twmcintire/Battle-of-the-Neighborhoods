{
 "cells": [
  {
   "cell_type": "markdown",
   "metadata": {},
   "source": [
    "## Introduction"
   ]
  },
  {
   "cell_type": "markdown",
   "metadata": {},
   "source": [
    "The basis of this report is to provide insight to anyone planning on opening a sushi franchise in 5 metropolitan locations within the United States. The United States has seen a flood of restaurants open and fail within the first year of opening. Clients interested in opening restaurants of any kind need to find the best location that will produce the most income. Most restaurants fail because they don’t get enough business, and most restaurants don’t get enough business because they aren’t a convenient option. This is especially important with niche food choices where choosing the right restaurant location can mean the difference between a thriving restaurant and one that was barely able to close out their first year."
   ]
  },
  {
   "cell_type": "markdown",
   "metadata": {},
   "source": [
    "## Business Problem"
   ]
  },
  {
   "cell_type": "markdown",
   "metadata": {},
   "source": [
    "A potential client is interested in starting a sushi restaurant franchise and needs to know which of the 5 chosen locations would be best situated to begin the franchise. However, he does not know which location would be best suited for his beginning franchise. The factors to consider are:\n",
    "\n",
    "1. The client does not like to have a lot of competition as individuals that enjoy sushi are part of a niche group of clientel.\n",
    "2. The right target audience. \n",
    "3. Population\n",
    "4. Demographics\n",
    "5. Number of competitors\n",
    "\n"
   ]
  },
  {
   "cell_type": "code",
   "execution_count": null,
   "metadata": {},
   "outputs": [],
   "source": []
  }
 ],
 "metadata": {
  "kernelspec": {
   "display_name": "Python 3",
   "language": "python",
   "name": "python3"
  },
  "language_info": {
   "codemirror_mode": {
    "name": "ipython",
    "version": 3
   },
   "file_extension": ".py",
   "mimetype": "text/x-python",
   "name": "python",
   "nbconvert_exporter": "python",
   "pygments_lexer": "ipython3",
   "version": "3.7.4"
  }
 },
 "nbformat": 4,
 "nbformat_minor": 2
}
