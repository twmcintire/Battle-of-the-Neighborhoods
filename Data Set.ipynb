{
 "cells": [
  {
   "cell_type": "markdown",
   "metadata": {},
   "source": [
    "## Data"
   ]
  },
  {
   "cell_type": "markdown",
   "metadata": {},
   "source": [
    "Five total cities will be examined:\n",
    "\n",
    "1. Lansing, MI\n",
    "2. Grand Rapids, MI\n",
    "3. Ann Arbor, MI\n",
    "4. Traverse City, MI\n",
    "5. Royal Oak, MI\n",
    "\n",
    "Data Set 1 : Geographical coordinates data will be utilized as input for the Foursquare API, that will be leveraged to provision sushi restaurant venues information for each neighborhood. We will use the Foursquare API to explore neighborhoods in the noted cities above.\n",
    "\n",
    "Data Set 2: I will also be leveraging Wikepedia on population densities within the cities noted above.\n",
    "    https://en.wikipedia.org/wiki/Lansing,_Michigan\n",
    "    https://en.wikipedia.org/wiki/Grand_Rapids,_Michigan\n",
    "    https://en.wikipedia.org/wiki/Ann_Arbor,_Michigan\n",
    "    https://en.wikipedia.org/wiki/Traverse_City,_Michigan\n",
    "    https://en.wikipedia.org/wiki/Royal_Oak,_Michigan\n",
    "    \n",
    "Data Set 3: I will be leveraging Wikepedia on demographics within the cities noted above:\n",
    "    https://en.wikipedia.org/wiki/Lansing,_Michigan#Demographics\n",
    "    https://en.wikipedia.org/wiki/Grand_Rapids,_Michigan#Demographics\n",
    "    https://en.wikipedia.org/wiki/Ann_Arbor,_Michigan#Demographics\n",
    "    https://en.wikipedia.org/wiki/Traverse_City,_Michigan#Demographics\n",
    "    https://en.wikipedia.org/wiki/Royal_Oak,_Michigan#Demographics"
   ]
  },
  {
   "cell_type": "code",
   "execution_count": null,
   "metadata": {},
   "outputs": [],
   "source": []
  }
 ],
 "metadata": {
  "kernelspec": {
   "display_name": "Python 3",
   "language": "python",
   "name": "python3"
  },
  "language_info": {
   "codemirror_mode": {
    "name": "ipython",
    "version": 3
   },
   "file_extension": ".py",
   "mimetype": "text/x-python",
   "name": "python",
   "nbconvert_exporter": "python",
   "pygments_lexer": "ipython3",
   "version": "3.7.4"
  }
 },
 "nbformat": 4,
 "nbformat_minor": 2
}
